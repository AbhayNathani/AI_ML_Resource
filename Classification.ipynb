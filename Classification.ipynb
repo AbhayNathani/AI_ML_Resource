{
 "cells": [
  {
   "cell_type": "code",
   "execution_count": null,
   "id": "6a488cda",
   "metadata": {},
   "outputs": [],
   "source": [
    "# Import necessary libraries\n",
    "import pandas as pd\n",
    "from sklearn.model_selection import train_test_split\n",
    "from sklearn.tree import DecisionTreeClassifier\n",
    "from sklearn.svm import SVC\n",
    "from sklearn.ensemble import RandomForestClassifier\n",
    "from sklearn.linear_model import LogisticRegression\n",
    "from sklearn.metrics import classification_report\n",
    "from sklearn.metrics import accuracy_score\n"
   ]
  },
  {
   "cell_type": "code",
   "execution_count": null,
   "id": "9908fd68",
   "metadata": {},
   "outputs": [],
   "source": [
    "\n",
    "# Load the Heart Attack Prediction dataset\n",
    "data = pd.read_csv(\"./data/heart.csv\")\n",
    "data.head()\n"
   ]
  },
  {
   "cell_type": "code",
   "execution_count": null,
   "id": "3c7d756e",
   "metadata": {},
   "outputs": [],
   "source": [
    "drop=[\"output\"]\n",
    "X = data.drop(drop,axis=1)\n",
    "y=data[\"output\"]\n",
    "X.head()"
   ]
  },
  {
   "cell_type": "code",
   "execution_count": null,
   "id": "549e99f1",
   "metadata": {},
   "outputs": [],
   "source": [
    "\n",
    "# Split the data into training and testing sets\n",
    "X_train, X_test, y_train, y_test = train_test_split(X, y, test_size=0.3, random_state=42)\n",
    "\n"
   ]
  },
  {
   "cell_type": "code",
   "execution_count": null,
   "id": "5194c1ee",
   "metadata": {},
   "outputs": [],
   "source": [
    "classifier_list = [DecisionTreeClassifier(), SVC(), RandomForestClassifier(), LogisticRegression()]\n",
    "for classifier in classifier_list:\n",
    "    # Give training data to claassifier\n",
    "    classifier.fit(X_train, y_train)\n",
    "    # get prediction result on test data\n",
    "    predictions = classifier.predict(X_test)\n",
    "    # Calculate Accuracy of model by giving prediction and actual test results\n",
    "    accuracy = accuracy_score(y_test, predictions)\n",
    "\n",
    "    print(f\"{classifier}\")\n",
    "    print(f\"Accuracy-{accuracy}\")\n",
    "    print(classification_report(y_test, predictions,target_names=[\"No\",\"Yes\"]))\n",
    "    print(\"*\"*50)\n"
   ]
  },
  {
   "cell_type": "code",
   "execution_count": null,
   "id": "1660c237",
   "metadata": {},
   "outputs": [],
   "source": [
    "import plotly.express as px\n",
    "\n",
    "# Let's visualize correlation of different factors with each other \n",
    "correlation_matrix = data.corr()\n",
    "\n",
    "# Create an interactive heatmap using Plotly\n",
    "fig = px.imshow(correlation_matrix,\n",
    "                labels=dict(x=\"Features\", y=\"Features\", color=\"Correlation\"),\n",
    "                x=correlation_matrix.columns,\n",
    "                y=correlation_matrix.columns,\n",
    "                color_continuous_scale='ice')\n",
    "\n",
    "# Customize the layout\n",
    "fig.update_layout(title=\"Correlation Matrix\",\n",
    "                  width=700,\n",
    "                  height=600)\n",
    "\n",
    "# Show the plot\n",
    "fig.show()\n"
   ]
  },
  {
   "cell_type": "code",
   "execution_count": null,
   "id": "ccc19471",
   "metadata": {},
   "outputs": [],
   "source": []
  },
  {
   "cell_type": "code",
   "execution_count": null,
   "id": "2bd8a56d",
   "metadata": {},
   "outputs": [],
   "source": []
  }
 ],
 "metadata": {
  "kernelspec": {
   "display_name": "Python 3.9.12 ('base')",
   "language": "python",
   "name": "python3"
  },
  "language_info": {
   "codemirror_mode": {
    "name": "ipython",
    "version": 3
   },
   "file_extension": ".py",
   "mimetype": "text/x-python",
   "name": "python",
   "nbconvert_exporter": "python",
   "pygments_lexer": "ipython3",
   "version": "3.9.12"
  },
  "vscode": {
   "interpreter": {
    "hash": "a9277649a74e8faa8be12cbeb58385da5eb2caa0505776957b10bd3c68ac62ba"
   }
  }
 },
 "nbformat": 4,
 "nbformat_minor": 5
}
